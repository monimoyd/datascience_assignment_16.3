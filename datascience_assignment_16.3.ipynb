{
 "cells": [
  {
   "cell_type": "markdown",
   "metadata": {},
   "source": [
    "## In a class on 100 students, 80 students passed in all subjects, 10 failed in one subject, 7 failed in two subjects and 3 failed in three subjects. Find the probability distribution of the variable for number of subjects a student from the given class has failed in.\n",
    "\n",
    "## Solution:\n",
    "* Calculate Probability Mass Function (pmf) for number of subjects failed. \n",
    "  If Number of subjects failed is 0, then probablility is 80/100\n",
    "  If Number of subjects failed is 1, probability is 10/100\n",
    "  If number of subjects failed is 2, probability is 7/100\n",
    "  If number of subjects failed is 2, probability is 3/100\n",
    "* Create a dataframe df with two columns:\n",
    "  no_of_failed_subjects which will have number of subjects failed\n",
    "  probability which will be probability of number of subjects failed\n",
    "* Plot the probability distribution using matplotlib"
   ]
  },
  {
   "cell_type": "code",
   "execution_count": 1,
   "metadata": {},
   "outputs": [],
   "source": [
    "# Function pmf calculates probability mass function\n",
    "# with no_of_failed_subjects as input and returns probability\n",
    "def pmf(no_of_failed_subjects):\n",
    "    if no_of_failed_subjects==0 :\n",
    "        return 80/100\n",
    "    elif no_of_failed_subjects==1:\n",
    "        return 10/100\n",
    "    elif no_of_failed_subjects==2:\n",
    "        return 7/100\n",
    "    elif no_of_failed_subjects==3:\n",
    "        return 3/100\n",
    "    "
   ]
  },
  {
   "cell_type": "code",
   "execution_count": 2,
   "metadata": {},
   "outputs": [
    {
     "data": {
      "text/html": [
       "<div>\n",
       "<style scoped>\n",
       "    .dataframe tbody tr th:only-of-type {\n",
       "        vertical-align: middle;\n",
       "    }\n",
       "\n",
       "    .dataframe tbody tr th {\n",
       "        vertical-align: top;\n",
       "    }\n",
       "\n",
       "    .dataframe thead th {\n",
       "        text-align: right;\n",
       "    }\n",
       "</style>\n",
       "<table border=\"1\" class=\"dataframe\">\n",
       "  <thead>\n",
       "    <tr style=\"text-align: right;\">\n",
       "      <th></th>\n",
       "      <th>no_of_failed_subjects</th>\n",
       "      <th>probability</th>\n",
       "    </tr>\n",
       "  </thead>\n",
       "  <tbody>\n",
       "    <tr>\n",
       "      <th>0</th>\n",
       "      <td>0</td>\n",
       "      <td>0.80</td>\n",
       "    </tr>\n",
       "    <tr>\n",
       "      <th>1</th>\n",
       "      <td>1</td>\n",
       "      <td>0.10</td>\n",
       "    </tr>\n",
       "    <tr>\n",
       "      <th>2</th>\n",
       "      <td>2</td>\n",
       "      <td>0.07</td>\n",
       "    </tr>\n",
       "    <tr>\n",
       "      <th>3</th>\n",
       "      <td>3</td>\n",
       "      <td>0.03</td>\n",
       "    </tr>\n",
       "  </tbody>\n",
       "</table>\n",
       "</div>"
      ],
      "text/plain": [
       "   no_of_failed_subjects  probability\n",
       "0                      0         0.80\n",
       "1                      1         0.10\n",
       "2                      2         0.07\n",
       "3                      3         0.03"
      ]
     },
     "execution_count": 2,
     "metadata": {},
     "output_type": "execute_result"
    }
   ],
   "source": [
    "import numpy as np\n",
    "import pandas as pd\n",
    "\n",
    "# Create a dataframe df with two columns:\n",
    "#  no_of_failed_subjects which will have number of subjects failed\n",
    "# probability which will be probability of number of subjects failed\n",
    "df = pd.DataFrame({'no_of_failed_subjects': np.arange(4)})\n",
    "df['probability'] = df['no_of_failed_subjects'].apply(pmf)\n",
    "df                "
   ]
  },
  {
   "cell_type": "code",
   "execution_count": 3,
   "metadata": {},
   "outputs": [
    {
     "data": {
      "image/png": "[encoded data removed]",
      "text/plain": [
       "<matplotlib.figure.Figure at 0x27bbc98ee10>"
      ]
     },
     "metadata": {},
     "output_type": "display_data"
    }
   ],
   "source": [
    "# Plot the probability distribution using matplotlib\n",
    "import matplotlib.pyplot as plt\n",
    "%matplotlib inline\n",
    "fig, ax = plt.subplots(1, 1)\n",
    "ax.plot(df['no_of_failed_subjects'], df['probability'], 'ro', ms=8, mec='r')\n",
    "ax.vlines(df['no_of_failed_subjects'], 0, df['probability'], colors='r', linestyles='-', lw=2)\n",
    "plt.title('Probability Distribution of Number of Subjects Failed')\n",
    "plt.xlabel('Number of failed subjects')\n",
    "plt.ylabel('Probability')\n",
    "plt.show()"
   ]
  },
  {
   "cell_type": "code",
   "execution_count": null,
   "metadata": {},
   "outputs": [],
   "source": []
  }
 ],
 "metadata": {
  "kernelspec": {
   "display_name": "Python 3",
   "language": "python",
   "name": "python3"
  },
  "language_info": {
   "codemirror_mode": {
    "name": "ipython",
    "version": 3
   },
   "file_extension": ".py",
   "mimetype": "text/x-python",
   "name": "python",
   "nbconvert_exporter": "python",
   "pygments_lexer": "ipython3",
   "version": "3.6.4"
  }
 },
 "nbformat": 4,
 "nbformat_minor": 2
}
